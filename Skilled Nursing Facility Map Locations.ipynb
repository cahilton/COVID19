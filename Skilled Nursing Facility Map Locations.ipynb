{
 "cells": [
  {
   "cell_type": "code",
   "execution_count": 1,
   "metadata": {},
   "outputs": [],
   "source": [
    "from ipyleaflet import *\n",
    "import pandas as pd\n",
    "from ipywidgets import link, FloatSlider\n",
    "from branca.colormap import linear\n",
    "import random\n",
    "import time\n",
    "from datetime import date, timedelta\n",
    "\n",
    "\n",
    "yesterday = date.today() - timedelta(days=1)\n",
    "yesterday_date = yesterday.strftime(\"%Y-%0m-%0d\")"
   ]
  },
  {
   "cell_type": "code",
   "execution_count": 2,
   "metadata": {},
   "outputs": [
    {
     "data": {
      "text/html": [
       "<div>\n",
       "<style scoped>\n",
       "    .dataframe tbody tr th:only-of-type {\n",
       "        vertical-align: middle;\n",
       "    }\n",
       "\n",
       "    .dataframe tbody tr th {\n",
       "        vertical-align: top;\n",
       "    }\n",
       "\n",
       "    .dataframe thead th {\n",
       "        text-align: right;\n",
       "    }\n",
       "</style>\n",
       "<table border=\"1\" class=\"dataframe\">\n",
       "  <thead>\n",
       "    <tr style=\"text-align: right;\">\n",
       "      <th></th>\n",
       "      <th>CCN</th>\n",
       "      <th>SNF NAME</th>\n",
       "      <th>ADDRESS</th>\n",
       "      <th>CITY</th>\n",
       "      <th>STATE</th>\n",
       "      <th>ZIP CODE</th>\n",
       "      <th>PHONE NUMBER</th>\n",
       "      <th>LAT</th>\n",
       "      <th>LONG</th>\n",
       "      <th>ALTITUDE</th>\n",
       "      <th>5_MILE_RADIUS</th>\n",
       "      <th>15_MILE_RADIUS</th>\n",
       "      <th>50_MILE_RADIUS</th>\n",
       "      <th>100_MILE_RADIUS</th>\n",
       "      <th>STATE_CASES</th>\n",
       "    </tr>\n",
       "  </thead>\n",
       "  <tbody>\n",
       "    <tr>\n",
       "      <th>0</th>\n",
       "      <td>15009</td>\n",
       "      <td>BURNS NURSING HOME, INC.</td>\n",
       "      <td>701 MONROE STREET NW</td>\n",
       "      <td>RUSSELLVILLE</td>\n",
       "      <td>AL</td>\n",
       "      <td>35653</td>\n",
       "      <td>(256) 332-4110</td>\n",
       "      <td>34.514839</td>\n",
       "      <td>-87.735809</td>\n",
       "      <td>0.0</td>\n",
       "      <td>0</td>\n",
       "      <td>0</td>\n",
       "      <td>1</td>\n",
       "      <td>26</td>\n",
       "      <td>36</td>\n",
       "    </tr>\n",
       "  </tbody>\n",
       "</table>\n",
       "</div>"
      ],
      "text/plain": [
       "     CCN                  SNF NAME               ADDRESS          CITY STATE  \\\n",
       "0  15009  BURNS NURSING HOME, INC.  701 MONROE STREET NW  RUSSELLVILLE    AL   \n",
       "\n",
       "   ZIP CODE    PHONE NUMBER        LAT       LONG  ALTITUDE  5_MILE_RADIUS  \\\n",
       "0     35653  (256) 332-4110  34.514839 -87.735809       0.0              0   \n",
       "\n",
       "   15_MILE_RADIUS  50_MILE_RADIUS  100_MILE_RADIUS  STATE_CASES  \n",
       "0               0               1               26           36  "
      ]
     },
     "execution_count": 2,
     "metadata": {},
     "output_type": "execute_result"
    }
   ],
   "source": [
    "df = pd.read_csv('data/snflist_cases.csv')\n",
    "df.head(n=1)"
   ]
  },
  {
   "cell_type": "code",
   "execution_count": null,
   "metadata": {},
   "outputs": [],
   "source": [
    "markers=[Marker(location=(row[7],row[8]), title='{} ({}, {})'.format(row[1], row[3], row[4])) for index, row in df.iterrows()]"
   ]
  },
  {
   "cell_type": "code",
   "execution_count": null,
   "metadata": {},
   "outputs": [],
   "source": [
    "import data_setup\n",
    "us_covid, us_cases, state_cases, states, csse_data, csse_us_count = data_setup.get_health_map_covid_data()\n",
    "us_covid[0]"
   ]
  },
  {
   "cell_type": "code",
   "execution_count": null,
   "metadata": {},
   "outputs": [],
   "source": [
    "max_cases = [x['Confirmed'] for x in us_covid]\n",
    "heat = Heatmap(locations=[(i.get('Lat'),i.get('Long_')) for i in us_covid], \n",
    "               max_val=max_cases,\n",
    "               min_opacity=0.3,\n",
    "               radius=25, blur=15)\n"
   ]
  },
  {
   "cell_type": "code",
   "execution_count": null,
   "metadata": {},
   "outputs": [],
   "source": [
    "m = Map(center = (40,-100), zoom = 4)\n",
    "m.add_layer(MarkerCluster(markers=markers))\n",
    "m.add_layer(heat)\n",
    "m"
   ]
  },
  {
   "cell_type": "code",
   "execution_count": null,
   "metadata": {},
   "outputs": [],
   "source": []
  }
 ],
 "metadata": {
  "kernelspec": {
   "display_name": "Python 3",
   "language": "python",
   "name": "python3"
  },
  "language_info": {
   "codemirror_mode": {
    "name": "ipython",
    "version": 3
   },
   "file_extension": ".py",
   "mimetype": "text/x-python",
   "name": "python",
   "nbconvert_exporter": "python",
   "pygments_lexer": "ipython3",
   "version": "3.7.4"
  }
 },
 "nbformat": 4,
 "nbformat_minor": 2
}
